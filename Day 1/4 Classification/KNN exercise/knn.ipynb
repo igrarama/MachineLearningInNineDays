{
 "cells": [
  {
   "cell_type": "markdown",
   "metadata": {},
   "source": [
    "# KNN exercise"
   ]
  },
  {
   "cell_type": "markdown",
   "metadata": {},
   "source": [
    "##### (Notebook By Itay Hazan)"
   ]
  },
  {
   "cell_type": "code",
   "execution_count": 49,
   "metadata": {},
   "outputs": [],
   "source": [
    "import numpy as np\n",
    "import matplotlib.pyplot as plt\n",
    "from matplotlib.colors import ListedColormap\n",
    "from sklearn import neighbors\n",
    "from sklearn.model_selection import train_test_split"
   ]
  },
  {
   "cell_type": "markdown",
   "metadata": {},
   "source": [
    "## Step 1: Visualizing KNN"
   ]
  },
  {
   "cell_type": "markdown",
   "metadata": {},
   "source": [
    "Complete the following code that samples $n=30$ uniformly-distributed random points in $ [0,1] \\times [0,1] $ and samples a label between 0 and `max_label`=3, that is sample $X \\in \\left([0,1]\\times [0,1]\\right)^{n \\times 2} $ and $ y \\in \\{0,\\dots, \\text{max_label} \\}^{n \\times 1} $:"
   ]
  },
  {
   "cell_type": "code",
   "execution_count": 37,
   "metadata": {},
   "outputs": [],
   "source": [
    "def generate_points_with_labels(n=30, max_label=3):\n",
    "    X = np.random.uniform(low=0, high=1, size=(n,2))\n",
    "    y = np.random.randint(low=0, high=max_label, size=n)\n",
    "    return X, y"
   ]
  },
  {
   "cell_type": "markdown",
   "metadata": {},
   "source": [
    "Call the function above and verify the shapes of $X$ and $y$:"
   ]
  },
  {
   "cell_type": "code",
   "execution_count": 29,
   "metadata": {},
   "outputs": [
    {
     "name": "stdout",
     "output_type": "stream",
     "text": [
      "(30, 2) (30,)\n"
     ]
    }
   ],
   "source": [
    "X, y = generate_points_with_labels()\n",
    "print(X.shape, y.shape)"
   ]
  },
  {
   "cell_type": "markdown",
   "metadata": {},
   "source": [
    "Plot the points, and color each label according to its label."
   ]
  },
  {
   "cell_type": "code",
   "execution_count": 30,
   "metadata": {},
   "outputs": [
    {
     "data": {
      "text/plain": [
       "<matplotlib.collections.PathCollection at 0x1a197c6940>"
      ]
     },
     "execution_count": 30,
     "metadata": {},
     "output_type": "execute_result"
    },
    {
     "data": {
      "image/png": "[encoded data removed]",
      "text/plain": [
       "<Figure size 432x288 with 1 Axes>"
      ]
     },
     "metadata": {
      "needs_background": "light"
     },
     "output_type": "display_data"
    }
   ],
   "source": [
    "plt.figure()\n",
    "plt.scatter(X[:,0],X[:,1], c=y, cmap='rainbow')"
   ]
  },
  {
   "cell_type": "markdown",
   "metadata": {},
   "source": [
    "Create an instance of `sklearn`'s KNN, with $k=1$."
   ]
  },
  {
   "cell_type": "code",
   "execution_count": 31,
   "metadata": {},
   "outputs": [],
   "source": [
    "k = 3\n",
    "classifier = neighbors.KNeighborsClassifier(k)"
   ]
  },
  {
   "cell_type": "markdown",
   "metadata": {},
   "source": [
    "Fit the classifier to your data. Use uniform weights."
   ]
  },
  {
   "cell_type": "code",
   "execution_count": 32,
   "metadata": {},
   "outputs": [
    {
     "data": {
      "image/png": "[encoded data removed]",
      "text/plain": [
       "<Figure size 432x288 with 1 Axes>"
      ]
     },
     "metadata": {
      "needs_background": "light"
     },
     "output_type": "display_data"
    }
   ],
   "source": [
    "classifier.fit(X, y)\n",
    "\n",
    "h=0.02\n",
    "cmap_light = ListedColormap(['#FFAAAA', '#AAFFAA', '#AAAAFF'])\n",
    "cmap_bold = ListedColormap(['#FF0000', '#00FF00', '#0000FF'])\n",
    "x_min, x_max = X[:, 0].min(), X[:, 0].max()\n",
    "y_min, y_max = X[:, 1].min(), X[:, 1].max()\n",
    "xx, yy = np.meshgrid(np.arange(x_min, x_max, h),\n",
    "                     np.arange(y_min, y_max, h))\n",
    "Z = classifier.predict(np.c_[xx.ravel(), yy.ravel()])\n",
    "\n",
    "# Put the result into a color plot\n",
    "Z = Z.reshape(xx.shape)\n",
    "plt.figure()\n",
    "plt.pcolormesh(xx, yy, Z, cmap=cmap_light)\n",
    "\n",
    "# Plot also the training points\n",
    "plt.scatter(X[:, 0], X[:, 1], c=y, cmap=cmap_bold,\n",
    "            edgecolor='k', s=20)\n",
    "plt.xlim(xx.min(), xx.max())\n",
    "plt.ylim(yy.min(), yy.max())\n",
    "plt.show()"
   ]
  },
  {
   "cell_type": "markdown",
   "metadata": {},
   "source": [
    "Visualize the classification regions of $[0,1]\\times [0,1]$. You might find [this](https://scikit-learn.org/stable/auto_examples/neighbors/plot_classification.html#sphx-glr-auto-examples-neighbors-plot-classification-py) code example useful."
   ]
  },
  {
   "cell_type": "code",
   "execution_count": null,
   "metadata": {},
   "outputs": [],
   "source": []
  },
  {
   "cell_type": "markdown",
   "metadata": {},
   "source": [
    "Repeat this step for different values of $k$, and make sure you understand how the classification regions change."
   ]
  },
  {
   "cell_type": "markdown",
   "metadata": {},
   "source": [
    "## Step 2: Choosing an Optimal Value for k Using Cross Validation"
   ]
  },
  {
   "cell_type": "markdown",
   "metadata": {},
   "source": [
    "In this part of the exercise, we'll use cross validation to choose the best value for our hyperparameter, $k$."
   ]
  },
  {
   "cell_type": "markdown",
   "metadata": {},
   "source": [
    "First, we'll have to make our label-generation a bit more sophisticated than just plain random numbers (why?).\n",
    "\n",
    "We begin by sampling our points in $[-1,1]\\times [-1,1]$. Now, we will attempt to sample the labels such that points in the first and third quadrant will have a higher probability of samplying a 1-label ($\\Pr [label = 1] = \\frac{3}{4}$), and points in the second and fourth quadrant will have a higher probability of sampling a 0-label ($\\Pr [label = 0] = \\frac{3}{4}$). \n",
    "\n",
    "This can be done quite easily by defining the following the label of each sample `X[i,:]=[x_1, x_2]` as a Bernoulli random variable with probability of success $$ p = \\frac{1}{2} + (-1)^{\\mathrm{sign} (x_1) \\cdot \\mathrm{sign} (x_2)} \\cdot \\frac{1}{4}. $$"
   ]
  },
  {
   "cell_type": "code",
   "execution_count": 44,
   "metadata": {},
   "outputs": [],
   "source": [
    "def generate_points_with_labels2(n=100):\n",
    "    X, _ = generate_points_with_labels(n=n, max_label=1) # only two kinds of labels, 0 or 1\n",
    "    X = X*2-1 # transforms the points in X to [-1,1]X[-1,1] \n",
    "    \n",
    "    ps = np.zeros(n)\n",
    "    for i in range(n):\n",
    "        ps[i] = 0.5 + (((-1) ** (np.sign(X[i, :])[0] * np.sign(X[i, :])[1] )) * 0.25 )\n",
    "    y = np.random.binomial(1, ps, n)\n",
    "    return X, y"
   ]
  },
  {
   "cell_type": "markdown",
   "metadata": {},
   "source": [
    "Plot the points, and color each label according to its label."
   ]
  },
  {
   "cell_type": "code",
   "execution_count": 45,
   "metadata": {},
   "outputs": [
    {
     "data": {
      "text/plain": [
       "<matplotlib.collections.PathCollection at 0x1a195f0208>"
      ]
     },
     "execution_count": 45,
     "metadata": {},
     "output_type": "execute_result"
    },
    {
     "data": {
      "image/png": "[encoded data removed]",
      "text/plain": [
       "<Figure size 432x288 with 1 Axes>"
      ]
     },
     "metadata": {
      "needs_background": "light"
     },
     "output_type": "display_data"
    }
   ],
   "source": [
    "X, y = generate_points_with_labels2()\n",
    "plt.figure()\n",
    "plt.scatter(X[:,0],X[:,1], c=y, cmap='rainbow')"
   ]
  },
  {
   "cell_type": "markdown",
   "metadata": {},
   "source": [
    "Split the set of points into two sets, `train` and `test`, such that `train` contains $80\\%$ of the data and `test` contains the other $20\\%$."
   ]
  },
  {
   "cell_type": "code",
   "execution_count": 58,
   "metadata": {},
   "outputs": [
    {
     "name": "stdout",
     "output_type": "stream",
     "text": [
      "(80, 2)\n",
      "(80,)\n",
      "(20, 2)\n",
      "(20,)\n"
     ]
    }
   ],
   "source": [
    "train_X, test_X, train_y, test_y = train_test_split(X, y, test_size=0.2, random_state=42)"
   ]
  },
  {
   "cell_type": "markdown",
   "metadata": {},
   "source": [
    "Split the train test into 4-folds (equal-size parts, i.e. $20\\%$ of the original data each)."
   ]
  },
  {
   "cell_type": "code",
   "execution_count": 59,
   "metadata": {},
   "outputs": [],
   "source": [
    "folds_Xs, folds_ys = np.split(train_X, 4), np.split(train_y, 4)"
   ]
  },
  {
   "cell_type": "markdown",
   "metadata": {},
   "source": [
    "Find the best value for $k$ using 4-fold cross validation, that is:\n",
    "\n",
    "1. For every value of $k$ from 1 to 10,\n",
    " 1. For every $i$ from 0 to 3,\n",
    "     1. Create KNN classifier with current $k$.\n",
    "     1. Fit the classifier on $ \\text{train} \\setminus \\text{fold}_i $.\n",
    "     1. Evaluate the accuracy of classifier on $\\text{fold}_i$.\n",
    "        \n",
    "Save all evaluations (throughout all iterations) in a dictionary of lists ` { k => [list of four accuracies] }`."
   ]
  },
  {
   "cell_type": "code",
   "execution_count": 79,
   "metadata": {},
   "outputs": [],
   "source": [
    "accuracies = {}\n",
    "for k in range(1,11):\n",
    "    accuracies[k] = list()\n",
    "    for i in range(4):\n",
    "        classifier = neighbors.KNeighborsClassifier(k)\n",
    "        classifier.fit(folds_Xs[i], folds_ys[i])\n",
    "        predictions = classifier.predict(test_X)\n",
    "        similar_indices = np.where(predictions == test_y)\n",
    "        accuracies[k].insert(i, len(similar_indices[0])/predictions.shape[0])"
   ]
  },
  {
   "cell_type": "markdown",
   "metadata": {},
   "source": [
    "For every $k$, compute its mean accuracy (taken on all folds). Save the results a $ (\\text{num_values_of_k}) \\times 2 $ array, where the $i$th row contains is `[k_i, mean_accuracy_i]`."
   ]
  },
  {
   "cell_type": "code",
   "execution_count": 81,
   "metadata": {},
   "outputs": [
    {
     "name": "stdout",
     "output_type": "stream",
     "text": [
      "[[ 0.      0.    ]\n",
      " [ 1.      0.5375]\n",
      " [ 2.      0.6   ]\n",
      " [ 3.      0.525 ]\n",
      " [ 4.      0.5875]\n",
      " [ 5.      0.5625]\n",
      " [ 6.      0.6   ]\n",
      " [ 7.      0.6   ]\n",
      " [ 8.      0.6   ]\n",
      " [ 9.      0.6   ]\n",
      " [10.      0.6   ]]\n"
     ]
    }
   ],
   "source": [
    "results = np.zeros([11, 2])\n",
    "for i in range (1,11):\n",
    "    results[i, :] = np.array([i, np.mean(accuracies[i])])\n",
    "print(results)"
   ]
  },
  {
   "cell_type": "markdown",
   "metadata": {},
   "source": [
    "Plot a graph of mean accuracies."
   ]
  },
  {
   "cell_type": "code",
   "execution_count": 10,
   "metadata": {},
   "outputs": [],
   "source": [
    "# TODO"
   ]
  },
  {
   "cell_type": "markdown",
   "metadata": {},
   "source": [
    "Conclude the optimal value of $k$ given your train set."
   ]
  },
  {
   "cell_type": "code",
   "execution_count": 11,
   "metadata": {},
   "outputs": [],
   "source": [
    "k_opt = 2"
   ]
  },
  {
   "cell_type": "markdown",
   "metadata": {},
   "source": [
    "Create a KNN classifier with $k_{opt}$, and evaluate its accuracy on the test set."
   ]
  },
  {
   "cell_type": "code",
   "execution_count": null,
   "metadata": {},
   "outputs": [],
   "source": [
    "# TODO"
   ]
  }
 ],
 "metadata": {
  "kernelspec": {
   "display_name": "Python 3",
   "language": "python",
   "name": "python3"
  },
  "language_info": {
   "codemirror_mode": {
    "name": "ipython",
    "version": 3
   },
   "file_extension": ".py",
   "mimetype": "text/x-python",
   "name": "python",
   "nbconvert_exporter": "python",
   "pygments_lexer": "ipython3",
   "version": "3.7.1"
  }
 },
 "nbformat": 4,
 "nbformat_minor": 2
}
