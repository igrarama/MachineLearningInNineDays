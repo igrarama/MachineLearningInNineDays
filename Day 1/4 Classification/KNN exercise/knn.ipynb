{
 "cells": [
  {
   "cell_type": "markdown",
   "metadata": {},
   "source": [
    "# KNN exercise"
   ]
  },
  {
   "cell_type": "markdown",
   "metadata": {},
   "source": [
    "##### (Notebook By Itay Hazan)"
   ]
  },
  {
   "cell_type": "code",
   "execution_count": 4,
   "metadata": {},
   "outputs": [],
   "source": [
    "import numpy as np\n",
    "import matplotlib.pyplot as plt\n",
    "from matplotlib.colors import ListedColormap\n",
    "from sklearn import neighbors"
   ]
  },
  {
   "cell_type": "markdown",
   "metadata": {},
   "source": [
    "## Step 1: Visualizing KNN"
   ]
  },
  {
   "cell_type": "markdown",
   "metadata": {},
   "source": [
    "Complete the following code that samples $n=30$ uniformly-distributed random points in $ [0,1] \\times [0,1] $ and samples a label between 0 and `max_label`=3, that is sample $X \\in \\left([0,1]\\times [0,1]\\right)^{n \\times 2} $ and $ y \\in \\{0,\\dots, \\text{max_label} \\}^{n \\times 1} $:"
   ]
  },
  {
   "cell_type": "code",
   "execution_count": 2,
   "metadata": {},
   "outputs": [],
   "source": [
    "def generate_points_with_labels(n=30, max_label=3):\n",
    "    # TODO\n",
    "    return X, y"
   ]
  },
  {
   "cell_type": "markdown",
   "metadata": {},
   "source": [
    "Call the function above and verify the shapes of $X$ and $y$:"
   ]
  },
  {
   "cell_type": "code",
   "execution_count": null,
   "metadata": {},
   "outputs": [],
   "source": [
    "X, y = generate_points_with_labels()\n",
    "print(X.shape, y.shape)"
   ]
  },
  {
   "cell_type": "markdown",
   "metadata": {},
   "source": [
    "Plot the points, and color each label according to its label."
   ]
  },
  {
   "cell_type": "code",
   "execution_count": null,
   "metadata": {},
   "outputs": [],
   "source": []
  },
  {
   "cell_type": "markdown",
   "metadata": {},
   "source": [
    "Create an instance of `sklearn`'s KNN, with $k=1$."
   ]
  },
  {
   "cell_type": "code",
   "execution_count": 3,
   "metadata": {},
   "outputs": [],
   "source": [
    "k = 1\n",
    "classifier = None"
   ]
  },
  {
   "cell_type": "markdown",
   "metadata": {},
   "source": [
    "Fit the classifier to your data. Use uniform weights."
   ]
  },
  {
   "cell_type": "code",
   "execution_count": null,
   "metadata": {},
   "outputs": [],
   "source": []
  },
  {
   "cell_type": "markdown",
   "metadata": {},
   "source": [
    "Visualize the classification regions of $[0,1]\\times [0,1]$. You might find [this](https://scikit-learn.org/stable/auto_examples/neighbors/plot_classification.html#sphx-glr-auto-examples-neighbors-plot-classification-py) code example useful."
   ]
  },
  {
   "cell_type": "code",
   "execution_count": null,
   "metadata": {},
   "outputs": [],
   "source": []
  },
  {
   "cell_type": "markdown",
   "metadata": {},
   "source": [
    "Repeat this step for different values of $k$, and make sure you understand how the classification regions change."
   ]
  },
  {
   "cell_type": "markdown",
   "metadata": {},
   "source": [
    "## Step 2: Choosing an Optimal Value for k Using Cross Validation"
   ]
  },
  {
   "cell_type": "markdown",
   "metadata": {},
   "source": [
    "In this part of the exercise, we'll use cross validation to choose the best value for our hyperparameter, $k$."
   ]
  },
  {
   "cell_type": "markdown",
   "metadata": {},
   "source": [
    "First, we'll have to make our label-generation a bit more sophisticated than just plain random numbers (why?).\n",
    "\n",
    "We begin by sampling our points in $[-1,1]\\times [-1,1]$. Now, we will attempt to sample the labels such that points in the first and third quadrant will have a higher probability of samplying a 1-label ($\\Pr [label = 1] = \\frac{3}{4}$), and points in the second and fourth quadrant will have a higher probability of sampling a 0-label ($\\Pr [label = 0] = \\frac{3}{4}$). \n",
    "\n",
    "This can be done quite easily by defining the following the label of each sample `X[i,:]=`$(x_1, x_2)$ as a Bernoulli random variable with probability of success $$ p = \\frac{1}{2} + (-1)^{\\mathrm{sign} (x_1) \\cdot \\mathrm{sign} (x_2)} \\cdot \\frac{1}{4}. $$"
   ]
  },
  {
   "cell_type": "code",
   "execution_count": 5,
   "metadata": {},
   "outputs": [],
   "source": [
    "def generate_points_with_labels(n=100):\n",
    "    X, _ = generate_points_with_labels(n=n, max_label=1) # only two kinds of labels, 0 or 1\n",
    "    X = X*2-1 # transforms the points in X to [-1,1]X[-1,1] \n",
    "    \n",
    "    y = None # TODO: numpy.random.binomial might be useful\n",
    "    return X, y"
   ]
  },
  {
   "cell_type": "markdown",
   "metadata": {},
   "source": [
    "Plot the points, and color each label according to its label."
   ]
  },
  {
   "cell_type": "code",
   "execution_count": 6,
   "metadata": {},
   "outputs": [],
   "source": [
    "# TODO: plot the points"
   ]
  },
  {
   "cell_type": "markdown",
   "metadata": {},
   "source": [
    "Split the set of points into two sets, `train` and `test`, such that `train` contains $80\\%$ of the data and `test` contains the other $20\\%$."
   ]
  },
  {
   "cell_type": "code",
   "execution_count": null,
   "metadata": {},
   "outputs": [],
   "source": [
    "train_X, train_y = \n",
    "test_X, test_y = "
   ]
  },
  {
   "cell_type": "markdown",
   "metadata": {},
   "source": [
    "Split the train test into 4-folds (equal-size parts, i.e. $20\\%$ of the original data each)."
   ]
  },
  {
   "cell_type": "code",
   "execution_count": null,
   "metadata": {},
   "outputs": [],
   "source": [
    "folds_Xs, folds_ys = "
   ]
  },
  {
   "cell_type": "markdown",
   "metadata": {},
   "source": [
    "Find the best value for $k$ using 4-fold cross validation, that is:\n",
    "\n",
    "1. For every value of $k$ from 1 to 10,\n",
    " 1. For every $i$ from 0 to 3,\n",
    "     1. Create KNN classifier with current $k$.\n",
    "     1. Fit the classifier on $ \\text{train} \\setminus \\text{fold}_i $.\n",
    "     1. Evaluate the accuracy of classifier on $\\text{fold}_i$.\n",
    "        \n",
    "Save all evaluations (throughout all iterations) in a dictionary of lists ` { k => [list of four accuracies] }`."
   ]
  },
  {
   "cell_type": "code",
   "execution_count": 8,
   "metadata": {},
   "outputs": [],
   "source": [
    "# TODO: implement 4-fold cross validation"
   ]
  },
  {
   "cell_type": "markdown",
   "metadata": {},
   "source": [
    "For every $k$, compute its mean accuracy (taken on all folds). Save the results a $ (\\text{num_values_of_k}) \\times 2 $ array, where the $i$th row contains is `[k_i, mean_accuracy_i]`."
   ]
  },
  {
   "cell_type": "code",
   "execution_count": 9,
   "metadata": {},
   "outputs": [],
   "source": [
    "# TODO: compute mean accuracies"
   ]
  },
  {
   "cell_type": "markdown",
   "metadata": {},
   "source": [
    "Plot a graph of mean accuracies."
   ]
  },
  {
   "cell_type": "code",
   "execution_count": 10,
   "metadata": {},
   "outputs": [],
   "source": [
    "# TODO"
   ]
  },
  {
   "cell_type": "markdown",
   "metadata": {},
   "source": [
    "Conclude the optimal value of $k$ given your train set."
   ]
  },
  {
   "cell_type": "code",
   "execution_count": 11,
   "metadata": {},
   "outputs": [],
   "source": [
    "k_opt = "
   ]
  },
  {
   "cell_type": "markdown",
   "metadata": {},
   "source": [
    "Create a KNN classifier with $k_{opt}$, and evaluate its accuracy on the test set."
   ]
  },
  {
   "cell_type": "code",
   "execution_count": null,
   "metadata": {},
   "outputs": [],
   "source": [
    "# TODO"
   ]
  }
 ],
 "metadata": {
  "kernelspec": {
   "display_name": "Python 3",
   "language": "python",
   "name": "python3"
  },
  "language_info": {
   "codemirror_mode": {
    "name": "ipython",
    "version": 3
   },
   "file_extension": ".py",
   "mimetype": "text/x-python",
   "name": "python",
   "nbconvert_exporter": "python",
   "pygments_lexer": "ipython3",
   "version": "3.6.5"
  }
 },
 "nbformat": 4,
 "nbformat_minor": 2
}
