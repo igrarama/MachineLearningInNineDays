{
 "cells": [
  {
   "cell_type": "markdown",
   "metadata": {},
   "source": [
    "# Gradient Descent: Basic Exercise"
   ]
  },
  {
   "cell_type": "markdown",
   "metadata": {},
   "source": [
    "##### (Notebook by Itay Hazan)"
   ]
  },
  {
   "cell_type": "markdown",
   "metadata": {},
   "source": [
    "# Step 1: Single-Variable Gradient Descent"
   ]
  },
  {
   "cell_type": "markdown",
   "metadata": {},
   "source": [
    "Let $f(x) = 10 \\cdot (x^4 - x^3 - x^2 + x + 1) $."
   ]
  },
  {
   "cell_type": "markdown",
   "metadata": {},
   "source": [
    "* Write a function that computes $f$ given $x$:"
   ]
  },
  {
   "cell_type": "code",
   "execution_count": 4,
   "metadata": {},
   "outputs": [],
   "source": [
    "import numpy as np\n",
    "def f(x):\n",
    "    return 10 * (np.power(x,4) - np.power(x,3) - np.power(x,2) + x + 1)"
   ]
  },
  {
   "cell_type": "markdown",
   "metadata": {},
   "source": [
    "* Plot $f$ for $x \\in [-2,2]$."
   ]
  },
  {
   "cell_type": "code",
   "execution_count": 6,
   "metadata": {},
   "outputs": [
    {
     "data": {
      "text/plain": [
       "<matplotlib.collections.PathCollection at 0x119ad99b0>"
      ]
     },
     "execution_count": 6,
     "metadata": {},
     "output_type": "execute_result"
    },
    {
     "data": {
      "image/png": "[encoded data removed]",
      "text/plain": [
       "<Figure size 432x288 with 1 Axes>"
      ]
     },
     "metadata": {
      "needs_background": "light"
     },
     "output_type": "display_data"
    }
   ],
   "source": [
    "import matplotlib.pyplot as plt\n",
    "x = np.random.uniform(low=-2,high=2,size=100)\n",
    "plt.scatter(x, f(x))"
   ]
  },
  {
   "cell_type": "markdown",
   "metadata": {},
   "source": [
    "* Write a function that evaluates the derivative $\\frac{df}{dx}$ given $x$: "
   ]
  },
  {
   "cell_type": "code",
   "execution_count": 7,
   "metadata": {},
   "outputs": [],
   "source": [
    "def df(x):\n",
    "    return 10 * (4 * np.power(x,3) - 3 * np.power(x,2) - 2 * x + 1)"
   ]
  },
  {
   "cell_type": "markdown",
   "metadata": {},
   "source": [
    "* Write a function that performs single-variable gradient descent. After every iteration, the function saves $x, f(x), df(x)$ into a numpy array. The function terminates either when num_iterations iterations passed or when the update to x was smaller than precision. When it terminates, it returns the array of \"history\"."
   ]
  },
  {
   "cell_type": "code",
   "execution_count": 16,
   "metadata": {},
   "outputs": [],
   "source": [
    "def gradient_descent(f, df, num_iterations=5, x0=1, step_size=0.01, precision=0.01):\n",
    "    # TODO: terminate either when num_iterations iterations passed or when the update to x was smaller than precision\n",
    "    history = np.zeros([num_iterations, 3])\n",
    "    iterations = 0\n",
    "    previousX = x0\n",
    "    while True:\n",
    "        dfi = df(previousX)\n",
    "        history[iterations, :] = np.array([previousX, f(previousX), dfi])\n",
    "        iterations = iterations + 1\n",
    "        xi = previousX - (step_size * dfi)\n",
    "        if iterations >= num_iterations or abs(xi - previousX) < precision:\n",
    "            break\n",
    "        previousX = xi\n",
    "    return history # TODO: returns the numpy array where each row is [x, f(x), df(x)]"
   ]
  },
  {
   "cell_type": "markdown",
   "metadata": {},
   "source": [
    "* Run 5 iterations of GD using the default parameters"
   ]
  },
  {
   "cell_type": "code",
   "execution_count": 9,
   "metadata": {},
   "outputs": [
    {
     "data": {
      "text/plain": [
       "array([[ 1., 10.,  0.],\n",
       "       [ 0.,  0.,  0.],\n",
       "       [ 0.,  0.,  0.],\n",
       "       [ 0.,  0.,  0.],\n",
       "       [ 0.,  0.,  0.]])"
      ]
     },
     "execution_count": 9,
     "metadata": {},
     "output_type": "execute_result"
    }
   ],
   "source": [
    "gradient_descent(f, df)"
   ]
  },
  {
   "cell_type": "markdown",
   "metadata": {},
   "source": [
    "* Run 200 more iterations"
   ]
  },
  {
   "cell_type": "code",
   "execution_count": 10,
   "metadata": {},
   "outputs": [
    {
     "data": {
      "text/plain": [
       "array([[ 1., 10.,  0.],\n",
       "       [ 0.,  0.,  0.],\n",
       "       [ 0.,  0.,  0.],\n",
       "       [ 0.,  0.,  0.],\n",
       "       [ 0.,  0.,  0.],\n",
       "       [ 0.,  0.,  0.],\n",
       "       [ 0.,  0.,  0.],\n",
       "       [ 0.,  0.,  0.],\n",
       "       [ 0.,  0.,  0.],\n",
       "       [ 0.,  0.,  0.],\n",
       "       [ 0.,  0.,  0.],\n",
       "       [ 0.,  0.,  0.],\n",
       "       [ 0.,  0.,  0.],\n",
       "       [ 0.,  0.,  0.],\n",
       "       [ 0.,  0.,  0.],\n",
       "       [ 0.,  0.,  0.],\n",
       "       [ 0.,  0.,  0.],\n",
       "       [ 0.,  0.,  0.],\n",
       "       [ 0.,  0.,  0.],\n",
       "       [ 0.,  0.,  0.],\n",
       "       [ 0.,  0.,  0.],\n",
       "       [ 0.,  0.,  0.],\n",
       "       [ 0.,  0.,  0.],\n",
       "       [ 0.,  0.,  0.],\n",
       "       [ 0.,  0.,  0.],\n",
       "       [ 0.,  0.,  0.],\n",
       "       [ 0.,  0.,  0.],\n",
       "       [ 0.,  0.,  0.],\n",
       "       [ 0.,  0.,  0.],\n",
       "       [ 0.,  0.,  0.],\n",
       "       [ 0.,  0.,  0.],\n",
       "       [ 0.,  0.,  0.],\n",
       "       [ 0.,  0.,  0.],\n",
       "       [ 0.,  0.,  0.],\n",
       "       [ 0.,  0.,  0.],\n",
       "       [ 0.,  0.,  0.],\n",
       "       [ 0.,  0.,  0.],\n",
       "       [ 0.,  0.,  0.],\n",
       "       [ 0.,  0.,  0.],\n",
       "       [ 0.,  0.,  0.],\n",
       "       [ 0.,  0.,  0.],\n",
       "       [ 0.,  0.,  0.],\n",
       "       [ 0.,  0.,  0.],\n",
       "       [ 0.,  0.,  0.],\n",
       "       [ 0.,  0.,  0.],\n",
       "       [ 0.,  0.,  0.],\n",
       "       [ 0.,  0.,  0.],\n",
       "       [ 0.,  0.,  0.],\n",
       "       [ 0.,  0.,  0.],\n",
       "       [ 0.,  0.,  0.],\n",
       "       [ 0.,  0.,  0.],\n",
       "       [ 0.,  0.,  0.],\n",
       "       [ 0.,  0.,  0.],\n",
       "       [ 0.,  0.,  0.],\n",
       "       [ 0.,  0.,  0.],\n",
       "       [ 0.,  0.,  0.],\n",
       "       [ 0.,  0.,  0.],\n",
       "       [ 0.,  0.,  0.],\n",
       "       [ 0.,  0.,  0.],\n",
       "       [ 0.,  0.,  0.],\n",
       "       [ 0.,  0.,  0.],\n",
       "       [ 0.,  0.,  0.],\n",
       "       [ 0.,  0.,  0.],\n",
       "       [ 0.,  0.,  0.],\n",
       "       [ 0.,  0.,  0.],\n",
       "       [ 0.,  0.,  0.],\n",
       "       [ 0.,  0.,  0.],\n",
       "       [ 0.,  0.,  0.],\n",
       "       [ 0.,  0.,  0.],\n",
       "       [ 0.,  0.,  0.],\n",
       "       [ 0.,  0.,  0.],\n",
       "       [ 0.,  0.,  0.],\n",
       "       [ 0.,  0.,  0.],\n",
       "       [ 0.,  0.,  0.],\n",
       "       [ 0.,  0.,  0.],\n",
       "       [ 0.,  0.,  0.],\n",
       "       [ 0.,  0.,  0.],\n",
       "       [ 0.,  0.,  0.],\n",
       "       [ 0.,  0.,  0.],\n",
       "       [ 0.,  0.,  0.],\n",
       "       [ 0.,  0.,  0.],\n",
       "       [ 0.,  0.,  0.],\n",
       "       [ 0.,  0.,  0.],\n",
       "       [ 0.,  0.,  0.],\n",
       "       [ 0.,  0.,  0.],\n",
       "       [ 0.,  0.,  0.],\n",
       "       [ 0.,  0.,  0.],\n",
       "       [ 0.,  0.,  0.],\n",
       "       [ 0.,  0.,  0.],\n",
       "       [ 0.,  0.,  0.],\n",
       "       [ 0.,  0.,  0.],\n",
       "       [ 0.,  0.,  0.],\n",
       "       [ 0.,  0.,  0.],\n",
       "       [ 0.,  0.,  0.],\n",
       "       [ 0.,  0.,  0.],\n",
       "       [ 0.,  0.,  0.],\n",
       "       [ 0.,  0.,  0.],\n",
       "       [ 0.,  0.,  0.],\n",
       "       [ 0.,  0.,  0.],\n",
       "       [ 0.,  0.,  0.],\n",
       "       [ 0.,  0.,  0.],\n",
       "       [ 0.,  0.,  0.],\n",
       "       [ 0.,  0.,  0.],\n",
       "       [ 0.,  0.,  0.],\n",
       "       [ 0.,  0.,  0.],\n",
       "       [ 0.,  0.,  0.],\n",
       "       [ 0.,  0.,  0.],\n",
       "       [ 0.,  0.,  0.],\n",
       "       [ 0.,  0.,  0.],\n",
       "       [ 0.,  0.,  0.],\n",
       "       [ 0.,  0.,  0.],\n",
       "       [ 0.,  0.,  0.],\n",
       "       [ 0.,  0.,  0.],\n",
       "       [ 0.,  0.,  0.],\n",
       "       [ 0.,  0.,  0.],\n",
       "       [ 0.,  0.,  0.],\n",
       "       [ 0.,  0.,  0.],\n",
       "       [ 0.,  0.,  0.],\n",
       "       [ 0.,  0.,  0.],\n",
       "       [ 0.,  0.,  0.],\n",
       "       [ 0.,  0.,  0.],\n",
       "       [ 0.,  0.,  0.],\n",
       "       [ 0.,  0.,  0.],\n",
       "       [ 0.,  0.,  0.],\n",
       "       [ 0.,  0.,  0.],\n",
       "       [ 0.,  0.,  0.],\n",
       "       [ 0.,  0.,  0.],\n",
       "       [ 0.,  0.,  0.],\n",
       "       [ 0.,  0.,  0.],\n",
       "       [ 0.,  0.,  0.],\n",
       "       [ 0.,  0.,  0.],\n",
       "       [ 0.,  0.,  0.],\n",
       "       [ 0.,  0.,  0.],\n",
       "       [ 0.,  0.,  0.],\n",
       "       [ 0.,  0.,  0.],\n",
       "       [ 0.,  0.,  0.],\n",
       "       [ 0.,  0.,  0.],\n",
       "       [ 0.,  0.,  0.],\n",
       "       [ 0.,  0.,  0.],\n",
       "       [ 0.,  0.,  0.],\n",
       "       [ 0.,  0.,  0.],\n",
       "       [ 0.,  0.,  0.],\n",
       "       [ 0.,  0.,  0.],\n",
       "       [ 0.,  0.,  0.],\n",
       "       [ 0.,  0.,  0.],\n",
       "       [ 0.,  0.,  0.],\n",
       "       [ 0.,  0.,  0.],\n",
       "       [ 0.,  0.,  0.],\n",
       "       [ 0.,  0.,  0.],\n",
       "       [ 0.,  0.,  0.],\n",
       "       [ 0.,  0.,  0.],\n",
       "       [ 0.,  0.,  0.],\n",
       "       [ 0.,  0.,  0.],\n",
       "       [ 0.,  0.,  0.],\n",
       "       [ 0.,  0.,  0.],\n",
       "       [ 0.,  0.,  0.],\n",
       "       [ 0.,  0.,  0.],\n",
       "       [ 0.,  0.,  0.],\n",
       "       [ 0.,  0.,  0.],\n",
       "       [ 0.,  0.,  0.],\n",
       "       [ 0.,  0.,  0.],\n",
       "       [ 0.,  0.,  0.],\n",
       "       [ 0.,  0.,  0.],\n",
       "       [ 0.,  0.,  0.],\n",
       "       [ 0.,  0.,  0.],\n",
       "       [ 0.,  0.,  0.],\n",
       "       [ 0.,  0.,  0.],\n",
       "       [ 0.,  0.,  0.],\n",
       "       [ 0.,  0.,  0.],\n",
       "       [ 0.,  0.,  0.],\n",
       "       [ 0.,  0.,  0.],\n",
       "       [ 0.,  0.,  0.],\n",
       "       [ 0.,  0.,  0.],\n",
       "       [ 0.,  0.,  0.],\n",
       "       [ 0.,  0.,  0.],\n",
       "       [ 0.,  0.,  0.],\n",
       "       [ 0.,  0.,  0.],\n",
       "       [ 0.,  0.,  0.],\n",
       "       [ 0.,  0.,  0.],\n",
       "       [ 0.,  0.,  0.],\n",
       "       [ 0.,  0.,  0.],\n",
       "       [ 0.,  0.,  0.],\n",
       "       [ 0.,  0.,  0.],\n",
       "       [ 0.,  0.,  0.],\n",
       "       [ 0.,  0.,  0.],\n",
       "       [ 0.,  0.,  0.],\n",
       "       [ 0.,  0.,  0.],\n",
       "       [ 0.,  0.,  0.],\n",
       "       [ 0.,  0.,  0.],\n",
       "       [ 0.,  0.,  0.],\n",
       "       [ 0.,  0.,  0.],\n",
       "       [ 0.,  0.,  0.],\n",
       "       [ 0.,  0.,  0.],\n",
       "       [ 0.,  0.,  0.],\n",
       "       [ 0.,  0.,  0.],\n",
       "       [ 0.,  0.,  0.],\n",
       "       [ 0.,  0.,  0.],\n",
       "       [ 0.,  0.,  0.],\n",
       "       [ 0.,  0.,  0.],\n",
       "       [ 0.,  0.,  0.]])"
      ]
     },
     "execution_count": 10,
     "metadata": {},
     "output_type": "execute_result"
    }
   ],
   "source": [
    "gradient_descent(f, df, 200)"
   ]
  },
  {
   "cell_type": "markdown",
   "metadata": {},
   "source": [
    "* Plot the function $f$ and the points that GD \"visited\" on the same axes."
   ]
  },
  {
   "cell_type": "code",
   "execution_count": null,
   "metadata": {},
   "outputs": [],
   "source": []
  },
  {
   "cell_type": "markdown",
   "metadata": {},
   "source": [
    "## Step 2: Random initialization"
   ]
  },
  {
   "cell_type": "markdown",
   "metadata": {},
   "source": [
    "As you can see, Gradient Descent highly depends on the initialization point. One possible way of overcoming this is to run GD from several random starting points, and then choosing the lowest value found as our minimum.\n",
    "\n",
    "Sample 3 random starting points, run GD from each one, and plot GDs progress each time. Choose the best value found as your estimation of the global minimum."
   ]
  },
  {
   "cell_type": "code",
   "execution_count": 21,
   "metadata": {},
   "outputs": [
    {
     "name": "stdout",
     "output_type": "stream",
     "text": [
      "[[-1.44620738e+00  4.86148063e+01 -1.44811947e+02]\n",
      " [ 1.91209747e-03  1.00190843e+01  9.96164865e+00]\n",
      " [-9.77043890e-02  8.93773293e+00  1.16303953e+01]\n",
      " [-2.14008342e-01  7.52091178e+00  1.25141201e+01]\n",
      " [-3.39149544e-01  5.98067998e+00  1.17719265e+01]\n",
      " [-4.56868809e-01  4.73331743e+00  9.06103016e+00]\n",
      " [-5.47479110e-01  4.06725372e+00  5.39367043e+00]\n",
      " [-6.01415815e-01  3.85243495e+00  2.47597919e+00]\n",
      " [-6.26175607e-01  3.80988572e+00  9.39800143e-01]\n",
      " [ 0.00000000e+00  0.00000000e+00  0.00000000e+00]\n",
      " [ 0.00000000e+00  0.00000000e+00  0.00000000e+00]\n",
      " [ 0.00000000e+00  0.00000000e+00  0.00000000e+00]\n",
      " [ 0.00000000e+00  0.00000000e+00  0.00000000e+00]\n",
      " [ 0.00000000e+00  0.00000000e+00  0.00000000e+00]\n",
      " [ 0.00000000e+00  0.00000000e+00  0.00000000e+00]\n",
      " [ 0.00000000e+00  0.00000000e+00  0.00000000e+00]\n",
      " [ 0.00000000e+00  0.00000000e+00  0.00000000e+00]\n",
      " [ 0.00000000e+00  0.00000000e+00  0.00000000e+00]\n",
      " [ 0.00000000e+00  0.00000000e+00  0.00000000e+00]\n",
      " [ 0.00000000e+00  0.00000000e+00  0.00000000e+00]] 0.0001\n",
      "[[ 0.4381039  11.98920443 -1.15662956]\n",
      " [ 0.4496702  11.97428288 -1.42251093]\n",
      " [ 0.46389531 11.95177259 -1.74068229]\n",
      " [ 0.48130213 11.91818442 -2.11581581]\n",
      " [ 0.50246029 11.86878889 -2.54902362]\n",
      " [ 0.52795053 11.79753583 -3.03470014]\n",
      " [ 0.55829753 11.69736697 -3.5560673 ]\n",
      " [ 0.5938582  11.56130524 -4.07980993]\n",
      " [ 0.6346563  11.38474018 -4.55149119]\n",
      " [ 0.68017121 11.16897949 -4.89562797]\n",
      " [ 0.72912749 10.92503965 -5.02640531]\n",
      " [ 0.77939154 10.67494987 -4.87367375]\n",
      " [ 0.82812828 10.44721166 -4.41936169]\n",
      " [ 0.8723219  10.26625031 -3.72322605]\n",
      " [ 0.90955416 10.14208157 -2.91118861]\n",
      " [ 0.93866605 10.06845671 -2.12402048]\n",
      " [ 0.95990625 10.03024248 -1.46165222]\n",
      " [ 0.97452277 10.01248989 -0.96133254]\n",
      " [ 0.          0.          0.        ]\n",
      " [ 0.          0.          0.        ]] 0.0001\n",
      "[[-0.06961422  9.25900491 11.23340573]\n",
      " [-0.18194827  7.92065935 12.40487307]\n",
      " [-0.305997    6.37787962 12.16484412]\n",
      " [-0.42764544  5.01127319  9.93816744]\n",
      " [-0.52702712  4.18750352  6.35238369]\n",
      " [-0.59055096  3.88280377  3.11031015]\n",
      " [-0.62165406  3.81479242  1.22984605]\n",
      " [-0.63395252  3.80454768  0.43086247]\n",
      " [ 0.          0.          0.        ]\n",
      " [ 0.          0.          0.        ]\n",
      " [ 0.          0.          0.        ]\n",
      " [ 0.          0.          0.        ]\n",
      " [ 0.          0.          0.        ]\n",
      " [ 0.          0.          0.        ]\n",
      " [ 0.          0.          0.        ]\n",
      " [ 0.          0.          0.        ]\n",
      " [ 0.          0.          0.        ]\n",
      " [ 0.          0.          0.        ]\n",
      " [ 0.          0.          0.        ]\n",
      " [ 0.          0.          0.        ]] 0.0001\n"
     ]
    }
   ],
   "source": [
    "xrandom = np.random.uniform(low=-2,high=2,size=3)\n",
    "print(gradient_descent(f, df, 20, xrandom[0]), 0.0001)\n",
    "print(gradient_descent(f, df, 20, xrandom[1]), 0.0001)\n",
    "print(gradient_descent(f, df, 20, xrandom[2]), 0.0001)"
   ]
  },
  {
   "cell_type": "markdown",
   "metadata": {},
   "source": [
    "## Step 3: Changing the learning rate"
   ]
  },
  {
   "cell_type": "markdown",
   "metadata": {},
   "source": [
    "*(Note: this steps builds on step 1. Do not use your implementation of random restarts here.)*"
   ]
  },
  {
   "cell_type": "markdown",
   "metadata": {},
   "source": [
    "Repeat step 1 with `step_size=1` and plot your results. Afterwards, repeat step 1 with `step_size=0.0001` and plot your results. \n",
    "\n",
    "What can you conclude on the importance of choosing the learning rate intelligently?"
   ]
  },
  {
   "cell_type": "markdown",
   "metadata": {},
   "source": [
    "## Step 4: Two-Variable Gradient Descent"
   ]
  },
  {
   "cell_type": "markdown",
   "metadata": {},
   "source": [
    "Let $ f(x_1,x_2) = x_1 ^2 + x_2 ^2 $.\n",
    "\n",
    "Repeat step 1 for this $f$. Note that now $df$ should return $\\nabla f$, the gradient of $f$, as a numpy array with two components."
   ]
  },
  {
   "cell_type": "code",
   "execution_count": 44,
   "metadata": {},
   "outputs": [
    {
     "name": "stdout",
     "output_type": "stream",
     "text": [
      "[0.8 0.8]\n",
      "[0.64 0.64]\n",
      "[0.512 0.512]\n",
      "[0.4096 0.4096]\n",
      "[0.32768 0.32768]\n",
      "[0.262144 0.262144]\n",
      "[0.2097152 0.2097152]\n",
      "[0.16777216 0.16777216]\n",
      "[0.13421773 0.13421773]\n",
      "[0.10737418 0.10737418]\n",
      "[0.08589935 0.08589935]\n",
      "[0.06871948 0.06871948]\n",
      "[0.05497558 0.05497558]\n",
      "[0.04398047 0.04398047]\n",
      "[0.03518437 0.03518437]\n",
      "[0.0281475 0.0281475]\n",
      "[0.022518 0.022518]\n",
      "[0.0180144 0.0180144]\n",
      "[0.01441152 0.01441152]\n",
      "[0.01152922 0.01152922]\n",
      "[0.00922337 0.00922337]\n",
      "[0.0073787 0.0073787]\n",
      "[0.00590296 0.00590296]\n",
      "[0.00472237 0.00472237]\n",
      "[0.00377789 0.00377789]\n",
      "[0.00302231 0.00302231]\n",
      "[0.00241785 0.00241785]\n",
      "[0.00193428 0.00193428]\n",
      "[0.00154743 0.00154743]\n",
      "[0.00123794 0.00123794]\n",
      "[0.00099035 0.00099035]\n",
      "[0.00079228 0.00079228]\n",
      "[0.00063383 0.00063383]\n",
      "[0.00050706 0.00050706]\n",
      "[0.00040565 0.00040565]\n",
      "[0.00032452 0.00032452]\n",
      "[0.00025961 0.00025961]\n",
      "[0.00020769 0.00020769]\n",
      "[0.00016615 0.00016615]\n",
      "[0.00013292 0.00013292]\n",
      "[0.00010634 0.00010634]\n",
      "[8.50705917e-05 8.50705917e-05]\n",
      "[6.80564734e-05 6.80564734e-05]\n",
      "[5.44451787e-05 5.44451787e-05]\n",
      "[4.3556143e-05 4.3556143e-05]\n",
      "[3.48449144e-05 3.48449144e-05]\n",
      "[2.78759315e-05 2.78759315e-05]\n",
      "[2.23007452e-05 2.23007452e-05]\n",
      "[1.78405962e-05 1.78405962e-05]\n",
      "[1.42724769e-05 1.42724769e-05]\n",
      "[1.14179815e-05 1.14179815e-05]\n",
      "[9.13438523e-06 9.13438523e-06]\n",
      "[7.30750819e-06 7.30750819e-06]\n",
      "[5.84600655e-06 5.84600655e-06]\n",
      "[4.67680524e-06 4.67680524e-06]\n",
      "[3.74144419e-06 3.74144419e-06]\n",
      "[2.99315535e-06 2.99315535e-06]\n",
      "[2.39452428e-06 2.39452428e-06]\n",
      "[1.91561943e-06 1.91561943e-06]\n",
      "[1.53249554e-06 1.53249554e-06]\n",
      "[1.22599643e-06 1.22599643e-06]\n",
      "[9.80797146e-07 9.80797146e-07]\n",
      "[7.84637717e-07 7.84637717e-07]\n",
      "[6.27710174e-07 6.27710174e-07]\n",
      "[5.02168139e-07 5.02168139e-07]\n",
      "[4.01734511e-07 4.01734511e-07]\n",
      "[3.21387609e-07 3.21387609e-07]\n",
      "[2.57110087e-07 2.57110087e-07]\n",
      "[2.0568807e-07 2.0568807e-07]\n",
      "[1.64550456e-07 1.64550456e-07]\n",
      "[1.31640365e-07 1.31640365e-07]\n",
      "[1.05312292e-07 1.05312292e-07]\n",
      "[8.42498333e-08 8.42498333e-08]\n",
      "[6.73998667e-08 6.73998667e-08]\n",
      "[5.39198933e-08 5.39198933e-08]\n",
      "[4.31359147e-08 4.31359147e-08]\n",
      "[3.45087317e-08 3.45087317e-08]\n",
      "[2.76069854e-08 2.76069854e-08]\n",
      "[2.20855883e-08 2.20855883e-08]\n",
      "[1.76684706e-08 1.76684706e-08]\n",
      "[1.41347765e-08 1.41347765e-08]\n",
      "[1.13078212e-08 1.13078212e-08]\n",
      "[9.04625697e-09 9.04625697e-09]\n",
      "[7.23700558e-09 7.23700558e-09]\n",
      "[5.78960446e-09 5.78960446e-09]\n",
      "[4.63168357e-09 4.63168357e-09]\n",
      "[3.70534686e-09 3.70534686e-09]\n",
      "[2.96427748e-09 2.96427748e-09]\n",
      "[2.37142199e-09 2.37142199e-09]\n",
      "[1.89713759e-09 1.89713759e-09]\n",
      "[1.51771007e-09 1.51771007e-09]\n",
      "[1.21416806e-09 1.21416806e-09]\n",
      "[9.71334446e-10 9.71334446e-10]\n",
      "[7.77067557e-10 7.77067557e-10]\n",
      "[6.21654046e-10 6.21654046e-10]\n",
      "[4.97323236e-10 4.97323236e-10]\n",
      "[3.97858589e-10 3.97858589e-10]\n",
      "[3.18286871e-10 3.18286871e-10]\n",
      "[2.54629497e-10 2.54629497e-10]\n",
      "[2.03703598e-10 2.03703598e-10]\n",
      "(array([2.54629497e-10, 2.54629497e-10]), 100)\n"
     ]
    }
   ],
   "source": [
    "def f(x):\n",
    "    return np.sum(x**2, axis=0) # np.power(x,2).sum(axis = 0)\n",
    "\n",
    "def df(x): \n",
    "    return np.array([2*x[0], 2*x[1]])\n",
    "\n",
    "def gradient_descent2(f, df, num_iterations=5, x0=np.array([1,1]), step_size=0.01, precision=0.01):\n",
    "    # TODO: terminate either when num_iterations iterations passed or when the update to x was smaller than precision\n",
    "    iterations = 0\n",
    "    previousX = x0\n",
    "    while True:\n",
    "        dfi = df(previousX)\n",
    "        iterations = iterations + 1\n",
    "        xi = previousX - (step_size * dfi)\n",
    "        print(xi)\n",
    "        if iterations >= num_iterations:\n",
    "            break\n",
    "        previousX = xi\n",
    "    return previousX, iterations # TODO: returns the numpy array where each row is [x, f(x), df(x)]\n",
    "\n",
    "print(gradient_descent2(f, df, 100, np.array([1,1]),0.1))"
   ]
  },
  {
   "cell_type": "markdown",
   "metadata": {},
   "source": [
    "## Step 5 (optional): Additional playing around"
   ]
  },
  {
   "cell_type": "markdown",
   "metadata": {},
   "source": [
    "Try to change $f$ in either step 1 or step 4, and repeat the step."
   ]
  }
 ],
 "metadata": {
  "kernelspec": {
   "display_name": "Python 3",
   "language": "python",
   "name": "python3"
  },
  "language_info": {
   "codemirror_mode": {
    "name": "ipython",
    "version": 3
   },
   "file_extension": ".py",
   "mimetype": "text/x-python",
   "name": "python",
   "nbconvert_exporter": "python",
   "pygments_lexer": "ipython3",
   "version": "3.7.1"
  }
 },
 "nbformat": 4,
 "nbformat_minor": 2
}
