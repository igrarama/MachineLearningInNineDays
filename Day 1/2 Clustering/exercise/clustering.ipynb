{
 "cells": [
  {
   "cell_type": "markdown",
   "metadata": {},
   "source": [
    "# Clustering exercise"
   ]
  },
  {
   "cell_type": "markdown",
   "metadata": {},
   "source": [
    "##### (Notebook By Itay Hazan)"
   ]
  },
  {
   "cell_type": "code",
   "execution_count": 18,
   "metadata": {},
   "outputs": [],
   "source": [
    "import numpy as np\n",
    "import matplotlib.pyplot as plt"
   ]
  },
  {
   "cell_type": "markdown",
   "metadata": {},
   "source": [
    "In this exercise, we will:\n",
    "1. implement $k$-means,\n",
    "2. examine our implementation with different values of $k$,\n",
    "3. compare our implementation with scikit-learn's implementation of GMM."
   ]
  },
  {
   "cell_type": "markdown",
   "metadata": {},
   "source": [
    "## Implementing $k$-means"
   ]
  },
  {
   "cell_type": "markdown",
   "metadata": {},
   "source": [
    "Complete the following function:"
   ]
  },
  {
   "cell_type": "code",
   "execution_count": 4,
   "metadata": {},
   "outputs": [],
   "source": [
    "def kmeans(X, k=2, precision=0.01):\n",
    "    # step 1: initialize k random vectors\n",
    "    means = \n",
    "    \n",
    "    # step 2: partition the data into k sets (a point is in the i'th set if it is closest to the i'th mean)\n",
    "    sets = \n",
    "    \n",
    "    # step 3: update the vectors in a loop until all of the updates to the means are smaller than precision\n",
    "    while :\n",
    "    \n",
    "    # step 4: return the means and the sets\n",
    "    return means, sets"
   ]
  },
  {
   "cell_type": "markdown",
   "metadata": {},
   "source": [
    "## Examine your implementation"
   ]
  },
  {
   "cell_type": "markdown",
   "metadata": {},
   "source": [
    "First, complete the following code that generates a random set of points in $[0,1] \\times [0,1]$:"
   ]
  },
  {
   "cell_type": "code",
   "execution_count": 6,
   "metadata": {},
   "outputs": [],
   "source": [
    "def generateRandomPoints(num_points=15):\n",
    "    return None"
   ]
  },
  {
   "cell_type": "markdown",
   "metadata": {},
   "source": [
    "Run `generateRandomPoints` to get a set of random points and plot them using the `matplotlib`."
   ]
  },
  {
   "cell_type": "code",
   "execution_count": 7,
   "metadata": {},
   "outputs": [],
   "source": [
    "X = generateRandomPoints()\n",
    "\n",
    "# TODO: Plot the points\n"
   ]
  },
  {
   "cell_type": "markdown",
   "metadata": {},
   "source": [
    "Now, use your implementation of `kmeans` to plot the points clustered using $k$-means into 2 clusters. "
   ]
  },
  {
   "cell_type": "code",
   "execution_count": null,
   "metadata": {},
   "outputs": [],
   "source": [
    "k = 2\n",
    "means, sets = kmeans(X, k)\n",
    "\n",
    "# TODO: plot the points in each set using a different color. \n",
    "# TODO: plot the mean of each set using the same color but with a different shape (e.g. a triangle)\n"
   ]
  },
  {
   "cell_type": "markdown",
   "metadata": {},
   "source": [
    "Run the code above with different values of $k$, and evaluate your results."
   ]
  },
  {
   "cell_type": "markdown",
   "metadata": {},
   "source": [
    "## Comparison of $k$-means and GMM"
   ]
  },
  {
   "cell_type": "markdown",
   "metadata": {},
   "source": [
    "The following code generates a common example of a \"hard input\" for $k$-means:"
   ]
  },
  {
   "cell_type": "code",
   "execution_count": 71,
   "metadata": {},
   "outputs": [],
   "source": [
    "def generateHardInput(num_points=100):\n",
    "    points = np.zeros((num_points, 2))\n",
    "    n = int(num_points/2)\n",
    "    points[:,0] = np.random.rand(num_points)*2 - 1\n",
    "    points[:,1] = np.sqrt(1-points[:,0]*points[:,0]) * (-1)**np.random.randint(2, size=num_points)\n",
    "    points[:,0] = np.where(points[:,1] > 0, points[:,0], points[:,0] + 1)\n",
    "    points[:,1] = np.where(points[:,1] > 0, points[:,1]-0.4, points[:,1] + 0.4)\n",
    "    points[:,1] += 0.05*np.random.randn(num_points)\n",
    "    return points"
   ]
  },
  {
   "cell_type": "markdown",
   "metadata": {},
   "source": [
    "Generate the hard input and plot it:"
   ]
  },
  {
   "cell_type": "code",
   "execution_count": 73,
   "metadata": {},
   "outputs": [
    {
     "data": {
      "text/plain": [
       "<matplotlib.collections.PathCollection at 0x1ce5fc07b70>"
      ]
     },
     "execution_count": 73,
     "metadata": {},
     "output_type": "execute_result"
    },
    {
     "data": {
      "image/png": "[encoded data removed]",
      "text/plain": [
       "<Figure size 432x288 with 1 Axes>"
      ]
     },
     "metadata": {},
     "output_type": "display_data"
    }
   ],
   "source": [
    "X = generateHardInput()\n",
    "plt.figure()\n",
    "plt.scatter(X[:, 0], X[:, 1])"
   ]
  },
  {
   "cell_type": "markdown",
   "metadata": {},
   "source": [
    "Use $k$-means clustering (either your implementation or `scikit-learn`'s implementation) and output the result. Afterwards, use `scikit-learn`'s implementation of Expectation Minimization clustering using Gaussian Mixture Models, and output the result. Evaluate the differences."
   ]
  },
  {
   "cell_type": "code",
   "execution_count": null,
   "metadata": {},
   "outputs": [],
   "source": [
    "# step 1: clustering using k-means\n",
    "\n",
    "# step 2: plot 1 - k-means\n",
    "\n",
    "# step 3: clustering using GMM\n",
    "\n",
    "#step 4: plot 2 - GMM\n"
   ]
  }
 ],
 "metadata": {
  "kernelspec": {
   "display_name": "Python 3",
   "language": "python",
   "name": "python3"
  },
  "language_info": {
   "codemirror_mode": {
    "name": "ipython",
    "version": 3
   },
   "file_extension": ".py",
   "mimetype": "text/x-python",
   "name": "python",
   "nbconvert_exporter": "python",
   "pygments_lexer": "ipython3",
   "version": "3.6.5"
  }
 },
 "nbformat": 4,
 "nbformat_minor": 2
}
