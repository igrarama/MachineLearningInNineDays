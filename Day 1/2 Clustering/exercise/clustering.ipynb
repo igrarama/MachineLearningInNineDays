{
 "cells": [
  {
   "cell_type": "markdown",
   "metadata": {},
   "source": [
    "# Clustering exercise"
   ]
  },
  {
   "cell_type": "markdown",
   "metadata": {},
   "source": [
    "##### (Notebook By Itay Hazan)"
   ]
  },
  {
   "cell_type": "code",
   "execution_count": 4,
   "metadata": {},
   "outputs": [],
   "source": [
    "import numpy as np\n",
    "import matplotlib.pyplot as plt"
   ]
  },
  {
   "cell_type": "markdown",
   "metadata": {},
   "source": [
    "In this exercise, we will:\n",
    "1. implement $k$-means,\n",
    "2. examine our implementation with different values of $k$,\n",
    "3. compare our implementation with scikit-learn's implementation of GMM."
   ]
  },
  {
   "cell_type": "markdown",
   "metadata": {},
   "source": [
    "## Implementing $k$-means"
   ]
  },
  {
   "cell_type": "markdown",
   "metadata": {},
   "source": [
    "Complete the following function:"
   ]
  },
  {
   "cell_type": "code",
   "execution_count": 83,
   "metadata": {},
   "outputs": [],
   "source": [
    "def kmeans(X, k=2, precision=0.01):\n",
    "    # step 1: initialize k random vectors\n",
    "    means = np.random.random((k, X.shape[1]))\n",
    "    \n",
    "    # step 2: partition the data into k sets (a point is in the i'th set if it is closest to the i'th mean)\n",
    "    sets = np.array([np.argmin([np.dot(x_i-c_i, x_i-c_i) for c_i in means]) for x_i in X])\n",
    "    print(sets)\n",
    "    # step 3: update the vectors in a loop until all of the updates to the means are smaller than precision\n",
    "    previous_means = means\n",
    "    means = np.array([X[sets == ki].mean(axis = 0) for ki in range(k)])\n",
    "    while np.amax(previous_means - means) > precision:\n",
    "        sets = np.array([np.argmin([np.dot(x_i-c_i, x_i-c_i) for c_i in means]) for x_i in X])\n",
    "        print(sets)\n",
    "        previous_means = means\n",
    "        means = np.array([X[sets == ki].mean(axis = 0) for ki in range(k)])\n",
    "    \n",
    "    # step 4: return the means and the sets\n",
    "    return means, sets"
   ]
  },
  {
   "cell_type": "markdown",
   "metadata": {},
   "source": [
    "## Examine your implementation"
   ]
  },
  {
   "cell_type": "markdown",
   "metadata": {},
   "source": [
    "First, complete the following code that generates a random set of points in $[0,1] \\times [0,1]$:"
   ]
  },
  {
   "cell_type": "code",
   "execution_count": 11,
   "metadata": {},
   "outputs": [],
   "source": [
    "def generateRandomPoints(num_points=15):\n",
    "    return np.random.uniform(low=0, high=1, size=(num_points,2))"
   ]
  },
  {
   "cell_type": "markdown",
   "metadata": {},
   "source": [
    "Run `generateRandomPoints` to get a set of random points and plot them using the `matplotlib`."
   ]
  },
  {
   "cell_type": "code",
   "execution_count": 12,
   "metadata": {},
   "outputs": [
    {
     "data": {
      "text/plain": [
       "<matplotlib.collections.PathCollection at 0x11e01da58>"
      ]
     },
     "execution_count": 12,
     "metadata": {},
     "output_type": "execute_result"
    },
    {
     "data": {
      "image/png": "[encoded data removed]",
      "text/plain": [
       "<Figure size 432x288 with 1 Axes>"
      ]
     },
     "metadata": {
      "needs_background": "light"
     },
     "output_type": "display_data"
    }
   ],
   "source": [
    "X = generateRandomPoints()\n",
    "plt.figure()\n",
    "plt.scatter(X[:, 0], X[:, 1])\n",
    "# TODO: Plot the points\n"
   ]
  },
  {
   "cell_type": "markdown",
   "metadata": {},
   "source": [
    "Now, use your implementation of `kmeans` to plot the points clustered using $k$-means into 2 clusters. "
   ]
  },
  {
   "cell_type": "code",
   "execution_count": 61,
   "metadata": {},
   "outputs": [
    {
     "name": "stdout",
     "output_type": "stream",
     "text": [
      "[1 1 1 1 0 1 1 1 1 0 1 0 0 1 0]\n",
      "[1 1 1 1 0 1 1 1 1 0 1 0 0 1 0]\n"
     ]
    },
    {
     "data": {
      "text/plain": [
       "<matplotlib.collections.PathCollection at 0x1a223d99e8>"
      ]
     },
     "execution_count": 61,
     "metadata": {},
     "output_type": "execute_result"
    },
    {
     "data": {
      "image/png": "[encoded data removed]",
      "text/plain": [
       "<Figure size 432x288 with 1 Axes>"
      ]
     },
     "metadata": {
      "needs_background": "light"
     },
     "output_type": "display_data"
    }
   ],
   "source": [
    "k = 2\n",
    "means, sets = kmeans(X, k)\n",
    "\n",
    "plt.figure()\n",
    "plt.scatter(X[:,0],X[:,1], c=sets, cmap='rainbow')\n",
    "plt.scatter(means[:, 0], means[:, 1], marker='^')\n",
    "# TODO: plot the points in each set using a different color. \n",
    "# TODO: plot the mean of each set using the same color but with a different shape (e.g. a triangle)\n"
   ]
  },
  {
   "cell_type": "markdown",
   "metadata": {},
   "source": [
    "Run the code above with different values of $k$, and evaluate your results."
   ]
  },
  {
   "cell_type": "markdown",
   "metadata": {},
   "source": [
    "## Comparison of $k$-means and GMM"
   ]
  },
  {
   "cell_type": "markdown",
   "metadata": {},
   "source": [
    "The following code generates a common example of a \"hard input\" for $k$-means:"
   ]
  },
  {
   "cell_type": "code",
   "execution_count": 64,
   "metadata": {},
   "outputs": [],
   "source": [
    "def generateHardInput(num_points=100):\n",
    "    points = np.zeros((num_points, 2))\n",
    "    n = int(num_points/2)\n",
    "    points[:,0] = np.random.rand(num_points)*2 - 1\n",
    "    points[:,1] = np.sqrt(1-points[:,0]*points[:,0]) * (-1)**np.random.randint(2, size=num_points)\n",
    "    points[:,0] = np.where(points[:,1] > 0, points[:,0], points[:,0] + 1)\n",
    "    points[:,1] = np.where(points[:,1] > 0, points[:,1]-0.4, points[:,1] + 0.4)\n",
    "    points[:,1] += 0.05*np.random.randn(num_points)\n",
    "    return points"
   ]
  },
  {
   "cell_type": "markdown",
   "metadata": {},
   "source": [
    "Generate the hard input and plot it:"
   ]
  },
  {
   "cell_type": "code",
   "execution_count": 65,
   "metadata": {},
   "outputs": [
    {
     "data": {
      "text/plain": [
       "<matplotlib.collections.PathCollection at 0x1a2264f860>"
      ]
     },
     "execution_count": 65,
     "metadata": {},
     "output_type": "execute_result"
    },
    {
     "data": {
      "image/png": "[encoded data removed]",
      "text/plain": [
       "<Figure size 432x288 with 1 Axes>"
      ]
     },
     "metadata": {
      "needs_background": "light"
     },
     "output_type": "display_data"
    }
   ],
   "source": [
    "X = generateHardInput()\n",
    "plt.figure()\n",
    "plt.scatter(X[:, 0], X[:, 1])"
   ]
  },
  {
   "cell_type": "markdown",
   "metadata": {},
   "source": [
    "Use $k$-means clustering (either your implementation or `scikit-learn`'s implementation) and output the result. Afterwards, use `scikit-learn`'s implementation of Expectation Minimization clustering using Gaussian Mixture Models, and output the result. Evaluate the differences."
   ]
  },
  {
   "cell_type": "code",
   "execution_count": 84,
   "metadata": {},
   "outputs": [
    {
     "name": "stdout",
     "output_type": "stream",
     "text": [
      "[1 1 1 0 1 0 1 1 1 1 1 1 1 1 1 1 1 1 1 1 1 0 1 1 1 1 1 1 1 1 1 1 1 1 0 1 0\n",
      " 1 1 1 1 1 1 1 1 1 1 1 1 1 1 1 1 0 1 1 1 1 1 1 1 1 1 1 1 1 1 0 1 1 1 1 1 1\n",
      " 1 1 1 1 1 1 0 1 1 0 1 1 1 1 1 1 1 1 0 1 1 1 1 0 1 1]\n",
      "[1 0 0 0 1 0 0 1 1 1 1 0 0 1 1 1 1 0 0 1 1 0 1 1 1 0 1 0 1 1 1 0 0 1 0 1 0\n",
      " 1 1 0 0 0 0 1 0 1 0 1 1 1 1 1 1 0 0 0 1 1 0 1 1 1 1 0 1 0 1 0 1 1 1 1 1 1\n",
      " 0 0 1 0 1 1 0 0 0 0 1 1 0 1 1 0 1 1 0 1 1 1 1 0 1 1]\n",
      "[1 0 0 0 1 0 0 1 1 1 1 0 0 1 1 1 1 0 0 1 0 0 1 0 1 0 1 0 1 1 0 0 0 1 0 1 0\n",
      " 1 1 0 0 0 0 1 0 1 0 1 1 1 1 1 1 0 0 0 0 1 0 0 1 1 1 0 1 0 1 0 1 1 1 1 1 1\n",
      " 0 0 1 0 1 1 0 1 0 0 1 1 0 0 1 1 1 1 0 1 0 1 1 0 0 1]\n",
      "[1 0 0 0 1 0 0 1 1 1 1 0 0 1 1 1 1 0 0 1 0 0 1 0 1 0 1 0 1 1 0 0 0 1 0 1 0\n",
      " 1 1 0 0 0 0 1 0 1 0 1 1 1 1 1 1 0 0 0 0 1 0 0 1 1 1 0 1 0 1 0 1 1 1 1 1 1\n",
      " 0 0 1 0 1 1 0 0 0 0 1 1 0 0 1 1 1 1 0 1 0 1 1 0 0 1]\n",
      "[1 0 0 0 1 0 0 1 1 1 1 0 0 1 1 1 1 0 0 1 0 0 1 0 1 0 1 0 1 1 0 0 0 1 0 1 0\n",
      " 1 1 0 0 0 0 1 0 1 0 1 1 1 1 1 1 0 0 0 0 1 0 0 1 1 1 0 1 0 1 0 1 1 1 1 1 1\n",
      " 0 0 1 0 1 1 0 0 0 0 1 1 0 0 1 1 1 1 0 1 0 1 1 0 0 1]\n"
     ]
    },
    {
     "data": {
      "text/plain": [
       "<matplotlib.collections.PathCollection at 0x1a2378f5c0>"
      ]
     },
     "execution_count": 84,
     "metadata": {},
     "output_type": "execute_result"
    },
    {
     "data": {
      "image/png": "[encoded data removed]",
      "text/plain": [
       "<Figure size 432x288 with 1 Axes>"
      ]
     },
     "metadata": {
      "needs_background": "light"
     },
     "output_type": "display_data"
    },
    {
     "data": {
      "image/png": "[encoded data removed]",
      "text/plain": [
       "<Figure size 432x288 with 1 Axes>"
      ]
     },
     "metadata": {
      "needs_background": "light"
     },
     "output_type": "display_data"
    }
   ],
   "source": [
    "from sklearn.cluster import KMeans\n",
    "from sklearn.mixture import GaussianMixture\n",
    "# step 1: clustering using k-means\n",
    "#kmeans = KMeans(n_clusters=2)  \n",
    "#kmeans.fit(X)\n",
    "means, sets = kmeans(X, 2)\n",
    "# step 2: plot 1 - k-means\n",
    "plt.figure()\n",
    "plt.scatter(X[:,0],X[:,1], c=sets, cmap='rainbow')\n",
    "plt.scatter(means[:, 0], means[:, 1], marker='^')\n",
    "# step 3: clustering using GMM\n",
    "gmm = GaussianMixture(n_components=2).fit(X)\n",
    "labels = gmm.predict(X)\n",
    "#step 4: plot 2 - GMM\n",
    "plt.figure()\n",
    "plt.scatter(X[:, 0], X[:, 1], c=labels, s=40, cmap='viridis');\n",
    "plt.scatter(gmm.means_[:, 0], gmm.means_[:, 1], marker='^')"
   ]
  },
  {
   "cell_type": "code",
   "execution_count": null,
   "metadata": {},
   "outputs": [],
   "source": []
  }
 ],
 "metadata": {
  "kernelspec": {
   "display_name": "Python 3",
   "language": "python",
   "name": "python3"
  },
  "language_info": {
   "codemirror_mode": {
    "name": "ipython",
    "version": 3
   },
   "file_extension": ".py",
   "mimetype": "text/x-python",
   "name": "python",
   "nbconvert_exporter": "python",
   "pygments_lexer": "ipython3",
   "version": "3.7.1"
  }
 },
 "nbformat": 4,
 "nbformat_minor": 2
}
