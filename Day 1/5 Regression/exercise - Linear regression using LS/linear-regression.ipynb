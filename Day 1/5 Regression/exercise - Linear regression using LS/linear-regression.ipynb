{
 "cells": [
  {
   "cell_type": "markdown",
   "metadata": {},
   "source": [
    "# Linear Regression Using Least Squares"
   ]
  },
  {
   "cell_type": "markdown",
   "metadata": {},
   "source": [
    "##### (Notebook By Itay Hazan)"
   ]
  },
  {
   "cell_type": "code",
   "execution_count": 3,
   "metadata": {},
   "outputs": [],
   "source": [
    "import numpy as np\n",
    "import matplotlib.pyplot as plt"
   ]
  },
  {
   "cell_type": "markdown",
   "metadata": {},
   "source": [
    "## Step 1: Linear regression in $\\mathbb R^2$"
   ]
  },
  {
   "cell_type": "markdown",
   "metadata": {},
   "source": [
    "Suppose God's function is $f(x) = 3x + 4$. \n",
    "\n",
    "We, of course, do not know the coefficients 3 and 4 (we do, but for the sake of our gedankenexperiment, suppose we don't). Nevertheless, we are able to sample from God's function. However, every sample comes with some normally-distributed noise $e_i \\sim \\mathcal N(0,2^2)$."
   ]
  },
  {
   "cell_type": "markdown",
   "metadata": {},
   "source": [
    "The following code generates some noisy samples from God's function:"
   ]
  },
  {
   "cell_type": "code",
   "execution_count": 22,
   "metadata": {},
   "outputs": [],
   "source": [
    "def generate_2d_points(num_points=30, slope=3, intersection=4, noise_sd=2):\n",
    "    X = np.random.rand(num_points) * 10 - 5 # sampling points between -5 and 5\n",
    "    y = 3 * X + 4 + noise_sd * np.random.randn(num_points)\n",
    "    \n",
    "    return X, y"
   ]
  },
  {
   "cell_type": "markdown",
   "metadata": {},
   "source": [
    "Generate the points:"
   ]
  },
  {
   "cell_type": "code",
   "execution_count": 25,
   "metadata": {},
   "outputs": [],
   "source": [
    "X, y = # TODO"
   ]
  },
  {
   "cell_type": "markdown",
   "metadata": {},
   "source": [
    "Plot the points:"
   ]
  },
  {
   "cell_type": "code",
   "execution_count": 32,
   "metadata": {},
   "outputs": [],
   "source": [
    "# TODO: plot the points\n"
   ]
  },
  {
   "cell_type": "markdown",
   "metadata": {},
   "source": [
    "From now on, we pretend to forget that God's coefficients are $(a,b)=(3,4), and try to estimate them ourselves."
   ]
  },
  {
   "cell_type": "markdown",
   "metadata": {},
   "source": [
    "Use the equation presented in the slides in order to find estimates $(\\tilde a, \\tilde b)$ to (a,b) that minimize the MSE (mean squared error)."
   ]
  },
  {
   "cell_type": "code",
   "execution_count": 28,
   "metadata": {},
   "outputs": [],
   "source": [
    "# TODO: find estimates to a and b and print your estimates"
   ]
  },
  {
   "cell_type": "markdown",
   "metadata": {},
   "source": [
    "Plot the points, God's original function, and our linear regression estimate in the same plot. Add a legend."
   ]
  },
  {
   "cell_type": "code",
   "execution_count": 30,
   "metadata": {},
   "outputs": [],
   "source": [
    "# TODO: plot"
   ]
  },
  {
   "cell_type": "markdown",
   "metadata": {},
   "source": [
    "Try to change the number of points we sample from God's function, and repeat step 1. How does increasing the number of samples affect our estimate? How does decreasing it?"
   ]
  },
  {
   "cell_type": "markdown",
   "metadata": {},
   "source": [
    "## Step 2: Linear Regression in $\\mathbb R ^3$"
   ]
  },
  {
   "cell_type": "markdown",
   "metadata": {},
   "source": [
    "Now, we assume that God has a function of the form $f(x_1, x_2) = a x_1 + b x_2 + c$. Suppose $(a,b,c) = (3,4,5)$."
   ]
  },
  {
   "cell_type": "markdown",
   "metadata": {},
   "source": [
    "Repeat step 1 above but for the new function $f$."
   ]
  },
  {
   "cell_type": "code",
   "execution_count": 29,
   "metadata": {},
   "outputs": [],
   "source": [
    "# TODO: generate points with noise\n",
    "\n",
    "# TODO: plot the points\n",
    "\n",
    "# TODO: estimate a,b,c and print your estimates\n",
    "\n",
    "# TODO: plot the points, God's function, and our estimate in the same plot\n"
   ]
  },
  {
   "cell_type": "markdown",
   "metadata": {},
   "source": [
    "## Step 3 (optional): Linear Regression in $\\mathbb R^d$"
   ]
  },
  {
   "cell_type": "markdown",
   "metadata": {},
   "source": [
    "Let $d \\in \\mathbb N$ be some parameter.\n",
    "\n",
    "Assume God has a function of the form $f(x) = w^T x + b$, where $w,x \\in \\mathbb R^d$ and $b \\in \\mathbb R$. Suppose $w = (1,2,\\dots,d)^T$ and $b = d+1$."
   ]
  },
  {
   "cell_type": "markdown",
   "metadata": {},
   "source": [
    "Repeat step 1 above, but now with our multivariate $f$. Since $f$ is high-dimensional, we will not be able to plot it, so you may skip the visualization parts."
   ]
  },
  {
   "cell_type": "code",
   "execution_count": 31,
   "metadata": {},
   "outputs": [],
   "source": [
    "# TODO: generate points with noise\n",
    "\n",
    "# TODO: estimate w and b\n",
    "\n",
    "# TODO: print your estimates and compare them with God's coefficients\n"
   ]
  }
 ],
 "metadata": {
  "kernelspec": {
   "display_name": "Python 3",
   "language": "python",
   "name": "python3"
  },
  "language_info": {
   "codemirror_mode": {
    "name": "ipython",
    "version": 3
   },
   "file_extension": ".py",
   "mimetype": "text/x-python",
   "name": "python",
   "nbconvert_exporter": "python",
   "pygments_lexer": "ipython3",
   "version": "3.6.5"
  }
 },
 "nbformat": 4,
 "nbformat_minor": 2
}
